{
 "cells": [
  {
   "cell_type": "code",
   "execution_count": 72,
   "metadata": {
    "collapsed": true
   },
   "outputs": [],
   "source": [
    "import numpy as np\n",
    "import pandas as pd\n",
    "import matplotlib.pyplot as plt\n",
    "import seaborn as sb\n",
    "from scipy.io import loadmat\n",
    "% matplotlib inline"
   ]
  },
  {
   "cell_type": "code",
   "execution_count": 73,
   "metadata": {},
   "outputs": [
    {
     "data": {
      "text/plain": [
       "(50, 2)"
      ]
     },
     "execution_count": 73,
     "metadata": {},
     "output_type": "execute_result"
    }
   ],
   "source": [
    "data = loadmat('data/ex7data1.mat')\n",
    "X = data['X']\n",
    "X.shape"
   ]
  },
  {
   "cell_type": "code",
   "execution_count": 74,
   "metadata": {},
   "outputs": [
    {
     "data": {
      "image/png": "[encoded data removed]",
      "text/plain": [
       "<matplotlib.figure.Figure at 0x1cfefe6c780>"
      ]
     },
     "metadata": {},
     "output_type": "display_data"
    }
   ],
   "source": [
    "fig, ax = plt.subplots(figsize=(14,10))\n",
    "\n",
    "ax.scatter(X[:,0], X[:,1]);"
   ]
  },
  {
   "cell_type": "code",
   "execution_count": 75,
   "metadata": {},
   "outputs": [
    {
     "data": {
      "text/plain": [
       "(matrix([[-0.79241747, -0.60997914],\n",
       "         [-0.60997914,  0.79241747]]),\n",
       " array([ 1.43584536,  0.56415464]),\n",
       " matrix([[-0.79241747, -0.60997914],\n",
       "         [-0.60997914,  0.79241747]]))"
      ]
     },
     "execution_count": 75,
     "metadata": {},
     "output_type": "execute_result"
    }
   ],
   "source": [
    "def pca(X):\n",
    "    \n",
    "    #Normalize the instances\n",
    "    X = (X - X.mean()) / X.std()\n",
    "    \n",
    "    #Compute the Covariance\n",
    "    X = np.matrix(X)\n",
    "    cov = (X.T * X) / X.shape[0]\n",
    "    \n",
    "    #Get SVD\n",
    "    U, S, V =  np.linalg.svd(cov)\n",
    "    \n",
    "    return U, S, V\n",
    "\n",
    "U, S, V = pca(X)\n",
    "U, S, V"
   ]
  },
  {
   "cell_type": "code",
   "execution_count": 76,
   "metadata": {},
   "outputs": [
    {
     "data": {
      "text/plain": [
       "matrix([[-4.74689738],\n",
       "        [-7.15889408],\n",
       "        [-4.79563345],\n",
       "        [-4.45754509],\n",
       "        [-4.80263579],\n",
       "        [-7.04081342],\n",
       "        [-4.97025076],\n",
       "        [-8.75934561],\n",
       "        [-6.2232703 ],\n",
       "        [-7.04497331],\n",
       "        [-6.91702866],\n",
       "        [-6.79543508],\n",
       "        [-6.3438312 ],\n",
       "        [-6.99891495],\n",
       "        [-4.54558119],\n",
       "        [-8.31574426],\n",
       "        [-7.16920841],\n",
       "        [-5.08083842],\n",
       "        [-8.54077427],\n",
       "        [-6.94102769],\n",
       "        [-8.5978815 ],\n",
       "        [-5.76620067],\n",
       "        [-8.2020797 ],\n",
       "        [-6.23890078],\n",
       "        [-4.37943868],\n",
       "        [-5.56947441],\n",
       "        [-7.53865023],\n",
       "        [-7.70645413],\n",
       "        [-5.17158343],\n",
       "        [-6.19268884],\n",
       "        [-6.24385246],\n",
       "        [-8.02715303],\n",
       "        [-4.81235176],\n",
       "        [-7.07993347],\n",
       "        [-5.45953289],\n",
       "        [-7.60014707],\n",
       "        [-4.39612191],\n",
       "        [-7.82288033],\n",
       "        [-3.40498213],\n",
       "        [-6.54290343],\n",
       "        [-7.17879573],\n",
       "        [-5.22572421],\n",
       "        [-4.83081168],\n",
       "        [-7.23907851],\n",
       "        [-4.36164051],\n",
       "        [-6.44590096],\n",
       "        [-2.69118076],\n",
       "        [-4.61386195],\n",
       "        [-5.88236227],\n",
       "        [-7.76732508]])"
      ]
     },
     "execution_count": 76,
     "metadata": {},
     "output_type": "execute_result"
    }
   ],
   "source": [
    "def project_data(X, U, k):  \n",
    "    U_reduced = U[:,:k]\n",
    "    return np.dot(X, U_reduced)\n",
    "    #return X*U_reduced\n",
    "\n",
    "Z = project_data(X, U, 1)  \n",
    "Z "
   ]
  },
  {
   "cell_type": "code",
   "execution_count": 77,
   "metadata": {},
   "outputs": [
    {
     "data": {
      "text/plain": [
       "matrix([[ 3.76152442,  2.89550838],\n",
       "        [ 5.67283275,  4.36677606],\n",
       "        [ 3.80014373,  2.92523637],\n",
       "        [ 3.53223661,  2.71900952],\n",
       "        [ 3.80569251,  2.92950765],\n",
       "        [ 5.57926356,  4.29474931],\n",
       "        [ 3.93851354,  3.03174929],\n",
       "        [ 6.94105849,  5.3430181 ],\n",
       "        [ 4.93142811,  3.79606507],\n",
       "        [ 5.58255993,  4.29728676],\n",
       "        [ 5.48117436,  4.21924319],\n",
       "        [ 5.38482148,  4.14507365],\n",
       "        [ 5.02696267,  3.8696047 ],\n",
       "        [ 5.54606249,  4.26919213],\n",
       "        [ 3.60199795,  2.77270971],\n",
       "        [ 6.58954104,  5.07243054],\n",
       "        [ 5.681006  ,  4.37306758],\n",
       "        [ 4.02614513,  3.09920545],\n",
       "        [ 6.76785875,  5.20969415],\n",
       "        [ 5.50019161,  4.2338821 ],\n",
       "        [ 6.81311151,  5.24452836],\n",
       "        [ 4.56923815,  3.51726213],\n",
       "        [ 6.49947125,  5.00309752],\n",
       "        [ 4.94381398,  3.80559934],\n",
       "        [ 3.47034372,  2.67136624],\n",
       "        [ 4.41334883,  3.39726321],\n",
       "        [ 5.97375815,  4.59841938],\n",
       "        [ 6.10672889,  4.70077626],\n",
       "        [ 4.09805306,  3.15455801],\n",
       "        [ 4.90719483,  3.77741101],\n",
       "        [ 4.94773778,  3.80861976],\n",
       "        [ 6.36085631,  4.8963959 ],\n",
       "        [ 3.81339161,  2.93543419],\n",
       "        [ 5.61026298,  4.31861173],\n",
       "        [ 4.32622924,  3.33020118],\n",
       "        [ 6.02248932,  4.63593118],\n",
       "        [ 3.48356381,  2.68154267],\n",
       "        [ 6.19898705,  4.77179382],\n",
       "        [ 2.69816733,  2.07696807],\n",
       "        [ 5.18471099,  3.99103461],\n",
       "        [ 5.68860316,  4.37891565],\n",
       "        [ 4.14095516,  3.18758276],\n",
       "        [ 3.82801958,  2.94669436],\n",
       "        [ 5.73637229,  4.41568689],\n",
       "        [ 3.45624014,  2.66050973],\n",
       "        [ 5.10784454,  3.93186513],\n",
       "        [ 2.13253865,  1.64156413],\n",
       "        [ 3.65610482,  2.81435955],\n",
       "        [ 4.66128664,  3.58811828],\n",
       "        [ 6.1549641 ,  4.73790627]])"
      ]
     },
     "execution_count": 77,
     "metadata": {},
     "output_type": "execute_result"
    }
   ],
   "source": [
    "def recover_data(Z, U, k):  \n",
    "    U_reduced = U[:,:k]\n",
    "    return np.dot(Z, U_reduced.T)\n",
    "\n",
    "X_recovered = recover_data(Z, U, 1)  \n",
    "X_recovered  "
   ]
  },
  {
   "cell_type": "code",
   "execution_count": 78,
   "metadata": {},
   "outputs": [
    {
     "data": {
      "image/png": "[encoded data removed]",
      "text/plain": [
       "<matplotlib.figure.Figure at 0x1cfefb86588>"
      ]
     },
     "metadata": {},
     "output_type": "display_data"
    }
   ],
   "source": [
    "fig, ax = plt.subplots(figsize=(12,8))\n",
    "ax.scatter([X_recovered[:,0]], [X_recovered[:,1]]);"
   ]
  },
  {
   "cell_type": "code",
   "execution_count": 90,
   "metadata": {},
   "outputs": [
    {
     "data": {
      "text/plain": [
       "(5000, 1024)"
      ]
     },
     "execution_count": 90,
     "metadata": {},
     "output_type": "execute_result"
    }
   ],
   "source": [
    "faces = loadmat('data/ex7faces.mat')  \n",
    "X = faces['X']  \n",
    "X.shape"
   ]
  },
  {
   "cell_type": "code",
   "execution_count": 91,
   "metadata": {},
   "outputs": [
    {
     "data": {
      "text/plain": [
       "<matplotlib.image.AxesImage at 0x1cff1797dd8>"
      ]
     },
     "execution_count": 91,
     "metadata": {},
     "output_type": "execute_result"
    },
    {
     "data": {
      "image/png": "[encoded data removed]",
      "text/plain": [
       "<matplotlib.figure.Figure at 0x1cfefe527f0>"
      ]
     },
     "metadata": {},
     "output_type": "display_data"
    }
   ],
   "source": [
    "face = np.reshape(X[3,:], (32, 32))  \n",
    "plt.imshow(face) "
   ]
  },
  {
   "cell_type": "code",
   "execution_count": 112,
   "metadata": {
    "collapsed": true
   },
   "outputs": [],
   "source": [
    "U, S, V = pca(X)\n",
    "Z = project_data(X, U, 100)"
   ]
  },
  {
   "cell_type": "code",
   "execution_count": 113,
   "metadata": {},
   "outputs": [
    {
     "data": {
      "text/plain": [
       "<matplotlib.image.AxesImage at 0x1cf80635a90>"
      ]
     },
     "execution_count": 113,
     "metadata": {},
     "output_type": "execute_result"
    },
    {
     "data": {
      "image/png": "[encoded data removed]",
      "text/plain": [
       "<matplotlib.figure.Figure at 0x1cf807ec5f8>"
      ]
     },
     "metadata": {},
     "output_type": "display_data"
    }
   ],
   "source": [
    "X_recovered = recover_data(Z, U, 100)\n",
    "face = np.reshape(X_recovered[3,:], (32, 32))  \n",
    "plt.imshow(face)"
   ]
  },
  {
   "cell_type": "code",
   "execution_count": null,
   "metadata": {
    "collapsed": true
   },
   "outputs": [],
   "source": []
  }
 ],
 "metadata": {
  "kernelspec": {
   "display_name": "Python 3",
   "language": "python",
   "name": "python3"
  },
  "language_info": {
   "codemirror_mode": {
    "name": "ipython",
    "version": 3
   },
   "file_extension": ".py",
   "mimetype": "text/x-python",
   "name": "python",
   "nbconvert_exporter": "python",
   "pygments_lexer": "ipython3",
   "version": "3.6.3"
  }
 },
 "nbformat": 4,
 "nbformat_minor": 2
}
