{
 "cells": [
  {
   "cell_type": "code",
   "execution_count": 631,
   "metadata": {
    "collapsed": true
   },
   "outputs": [],
   "source": [
    "#%reset"
   ]
  },
  {
   "cell_type": "code",
   "execution_count": 664,
   "metadata": {
    "collapsed": true
   },
   "outputs": [],
   "source": [
    "import pandas as pd\n",
    "import numpy as np\n",
    "import matplotlib.pyplot as plt\n",
    "\n",
    "%matplotlib inline"
   ]
  },
  {
   "cell_type": "markdown",
   "metadata": {},
   "source": [
    "## Load the data as a Pandas Dataframe "
   ]
  },
  {
   "cell_type": "code",
   "execution_count": 665,
   "metadata": {},
   "outputs": [
    {
     "data": {
      "text/html": [
       "<div>\n",
       "<style>\n",
       "    .dataframe thead tr:only-child th {\n",
       "        text-align: right;\n",
       "    }\n",
       "\n",
       "    .dataframe thead th {\n",
       "        text-align: left;\n",
       "    }\n",
       "\n",
       "    .dataframe tbody tr th {\n",
       "        vertical-align: top;\n",
       "    }\n",
       "</style>\n",
       "<table border=\"1\" class=\"dataframe\">\n",
       "  <thead>\n",
       "    <tr style=\"text-align: right;\">\n",
       "      <th></th>\n",
       "      <th>Population</th>\n",
       "      <th>Profit</th>\n",
       "    </tr>\n",
       "  </thead>\n",
       "  <tbody>\n",
       "    <tr>\n",
       "      <th>0</th>\n",
       "      <td>6.1101</td>\n",
       "      <td>17.5920</td>\n",
       "    </tr>\n",
       "    <tr>\n",
       "      <th>1</th>\n",
       "      <td>5.5277</td>\n",
       "      <td>9.1302</td>\n",
       "    </tr>\n",
       "    <tr>\n",
       "      <th>2</th>\n",
       "      <td>8.5186</td>\n",
       "      <td>13.6620</td>\n",
       "    </tr>\n",
       "    <tr>\n",
       "      <th>3</th>\n",
       "      <td>7.0032</td>\n",
       "      <td>11.8540</td>\n",
       "    </tr>\n",
       "    <tr>\n",
       "      <th>4</th>\n",
       "      <td>5.8598</td>\n",
       "      <td>6.8233</td>\n",
       "    </tr>\n",
       "  </tbody>\n",
       "</table>\n",
       "</div>"
      ],
      "text/plain": [
       "   Population   Profit\n",
       "0      6.1101  17.5920\n",
       "1      5.5277   9.1302\n",
       "2      8.5186  13.6620\n",
       "3      7.0032  11.8540\n",
       "4      5.8598   6.8233"
      ]
     },
     "execution_count": 665,
     "metadata": {},
     "output_type": "execute_result"
    }
   ],
   "source": [
    "import os\n",
    "path = os.getcwd() + '\\data\\ex1data1.txt'\n",
    "data = pd.read_csv(path, header = None, names = ['Population', 'Profit'])\n",
    "data.head()"
   ]
  },
  {
   "cell_type": "code",
   "execution_count": 666,
   "metadata": {},
   "outputs": [
    {
     "data": {
      "text/html": [
       "<div>\n",
       "<style>\n",
       "    .dataframe thead tr:only-child th {\n",
       "        text-align: right;\n",
       "    }\n",
       "\n",
       "    .dataframe thead th {\n",
       "        text-align: left;\n",
       "    }\n",
       "\n",
       "    .dataframe tbody tr th {\n",
       "        vertical-align: top;\n",
       "    }\n",
       "</style>\n",
       "<table border=\"1\" class=\"dataframe\">\n",
       "  <thead>\n",
       "    <tr style=\"text-align: right;\">\n",
       "      <th></th>\n",
       "      <th>Population</th>\n",
       "      <th>Profit</th>\n",
       "    </tr>\n",
       "  </thead>\n",
       "  <tbody>\n",
       "    <tr>\n",
       "      <th>92</th>\n",
       "      <td>5.8707</td>\n",
       "      <td>7.20290</td>\n",
       "    </tr>\n",
       "    <tr>\n",
       "      <th>93</th>\n",
       "      <td>5.3054</td>\n",
       "      <td>1.98690</td>\n",
       "    </tr>\n",
       "    <tr>\n",
       "      <th>94</th>\n",
       "      <td>8.2934</td>\n",
       "      <td>0.14454</td>\n",
       "    </tr>\n",
       "    <tr>\n",
       "      <th>95</th>\n",
       "      <td>13.3940</td>\n",
       "      <td>9.05510</td>\n",
       "    </tr>\n",
       "    <tr>\n",
       "      <th>96</th>\n",
       "      <td>5.4369</td>\n",
       "      <td>0.61705</td>\n",
       "    </tr>\n",
       "  </tbody>\n",
       "</table>\n",
       "</div>"
      ],
      "text/plain": [
       "    Population   Profit\n",
       "92      5.8707  7.20290\n",
       "93      5.3054  1.98690\n",
       "94      8.2934  0.14454\n",
       "95     13.3940  9.05510\n",
       "96      5.4369  0.61705"
      ]
     },
     "execution_count": 666,
     "metadata": {},
     "output_type": "execute_result"
    }
   ],
   "source": [
    "data.tail()"
   ]
  },
  {
   "cell_type": "markdown",
   "metadata": {},
   "source": [
    "## Prelminary Data Exploration "
   ]
  },
  {
   "cell_type": "code",
   "execution_count": 667,
   "metadata": {},
   "outputs": [
    {
     "data": {
      "text/html": [
       "<div>\n",
       "<style>\n",
       "    .dataframe thead tr:only-child th {\n",
       "        text-align: right;\n",
       "    }\n",
       "\n",
       "    .dataframe thead th {\n",
       "        text-align: left;\n",
       "    }\n",
       "\n",
       "    .dataframe tbody tr th {\n",
       "        vertical-align: top;\n",
       "    }\n",
       "</style>\n",
       "<table border=\"1\" class=\"dataframe\">\n",
       "  <thead>\n",
       "    <tr style=\"text-align: right;\">\n",
       "      <th></th>\n",
       "      <th>Population</th>\n",
       "      <th>Profit</th>\n",
       "    </tr>\n",
       "  </thead>\n",
       "  <tbody>\n",
       "    <tr>\n",
       "      <th>count</th>\n",
       "      <td>97.000000</td>\n",
       "      <td>97.000000</td>\n",
       "    </tr>\n",
       "    <tr>\n",
       "      <th>mean</th>\n",
       "      <td>8.159800</td>\n",
       "      <td>5.839135</td>\n",
       "    </tr>\n",
       "    <tr>\n",
       "      <th>std</th>\n",
       "      <td>3.869884</td>\n",
       "      <td>5.510262</td>\n",
       "    </tr>\n",
       "    <tr>\n",
       "      <th>min</th>\n",
       "      <td>5.026900</td>\n",
       "      <td>-2.680700</td>\n",
       "    </tr>\n",
       "    <tr>\n",
       "      <th>25%</th>\n",
       "      <td>5.707700</td>\n",
       "      <td>1.986900</td>\n",
       "    </tr>\n",
       "    <tr>\n",
       "      <th>50%</th>\n",
       "      <td>6.589400</td>\n",
       "      <td>4.562300</td>\n",
       "    </tr>\n",
       "    <tr>\n",
       "      <th>75%</th>\n",
       "      <td>8.578100</td>\n",
       "      <td>7.046700</td>\n",
       "    </tr>\n",
       "    <tr>\n",
       "      <th>max</th>\n",
       "      <td>22.203000</td>\n",
       "      <td>24.147000</td>\n",
       "    </tr>\n",
       "  </tbody>\n",
       "</table>\n",
       "</div>"
      ],
      "text/plain": [
       "       Population     Profit\n",
       "count   97.000000  97.000000\n",
       "mean     8.159800   5.839135\n",
       "std      3.869884   5.510262\n",
       "min      5.026900  -2.680700\n",
       "25%      5.707700   1.986900\n",
       "50%      6.589400   4.562300\n",
       "75%      8.578100   7.046700\n",
       "max     22.203000  24.147000"
      ]
     },
     "execution_count": 667,
     "metadata": {},
     "output_type": "execute_result"
    }
   ],
   "source": [
    "data.describe()"
   ]
  },
  {
   "cell_type": "code",
   "execution_count": 668,
   "metadata": {},
   "outputs": [
    {
     "data": {
      "image/png": "[encoded data removed]",
      "text/plain": [
       "<matplotlib.figure.Figure at 0x291f28e3160>"
      ]
     },
     "metadata": {},
     "output_type": "display_data"
    }
   ],
   "source": [
    "data.plot(kind='scatter', x='Population', y='Profit', figsize=(14,10));"
   ]
  },
  {
   "cell_type": "markdown",
   "metadata": {},
   "source": [
    "## Linear Regression modeling using Gradient Descent approach"
   ]
  },
  {
   "cell_type": "markdown",
   "metadata": {},
   "source": [
    "### Gradient Descent Cost function:"
   ]
  },
  {
   "cell_type": "code",
   "execution_count": 669,
   "metadata": {
    "collapsed": true
   },
   "outputs": [],
   "source": [
    "def GD_cost(x, y, theta):\n",
    "    inner = np.power(((x * theta.T) - y) , 2)\n",
    "    return np.sum(inner) / (2*len(x))"
   ]
  },
  {
   "cell_type": "markdown",
   "metadata": {},
   "source": [
    "### Putting the data in the right format:"
   ]
  },
  {
   "cell_type": "code",
   "execution_count": 670,
   "metadata": {
    "collapsed": true
   },
   "outputs": [],
   "source": [
    "data.insert(0, 'ones', 1)"
   ]
  },
  {
   "cell_type": "code",
   "execution_count": 671,
   "metadata": {
    "collapsed": true
   },
   "outputs": [],
   "source": [
    "cols = data.shape[1]\n",
    "x = data.iloc[:,0:cols-1]\n",
    "y = data.iloc[:,cols-1:cols]"
   ]
  },
  {
   "cell_type": "code",
   "execution_count": 672,
   "metadata": {
    "collapsed": true
   },
   "outputs": [],
   "source": [
    "x = np.matrix(x.values)\n",
    "y = np.matrix(y.values)\n",
    "theta = np.matrix(np.zeros(x.shape[1]))"
   ]
  },
  {
   "cell_type": "code",
   "execution_count": 673,
   "metadata": {},
   "outputs": [
    {
     "data": {
      "text/plain": [
       "((97, 2), (1, 2), (97, 1))"
      ]
     },
     "execution_count": 673,
     "metadata": {},
     "output_type": "execute_result"
    }
   ],
   "source": [
    "x.shape, theta.shape, y.shape"
   ]
  },
  {
   "cell_type": "code",
   "execution_count": 674,
   "metadata": {},
   "outputs": [
    {
     "data": {
      "text/plain": [
       "32.072733877455676"
      ]
     },
     "execution_count": 674,
     "metadata": {},
     "output_type": "execute_result"
    }
   ],
   "source": [
    "# Test if the data works on the GD_cost function\n",
    "GD_cost(x, y, theta)"
   ]
  },
  {
   "cell_type": "markdown",
   "metadata": {},
   "source": [
    "### Batch Gradient Descent Algorithm:"
   ]
  },
  {
   "cell_type": "markdown",
   "metadata": {},
   "source": [
    "#### An inefficient way\n",
    "def GD_estimates(x, y, theta, alpha, iters):\n",
    "    temp = np.matrix(np.zeros(theta.shape))\n",
    "    parameters = int(theta.ravel().shape[1])\n",
    "    cost = np.zeros(iters)\n",
    "    \n",
    "    for i in range(iters):\n",
    "        error = (x * theta.T) - y\n",
    "        \n",
    "        for j in range(parameters):\n",
    "            term = np.multiply(error, x[:,j])\n",
    "            temp[0,j] = theta[0,j] - ((alpha / len(x)) * np.sum(term))\n",
    "            \n",
    "        theta = temp\n",
    "        cost[i] = GD_cost(x, y, theta)\n",
    "        \n",
    "    return theta, cost"
   ]
  },
  {
   "cell_type": "markdown",
   "metadata": {},
   "source": [
    "#### Theta update rule (based on gradient of error at each iteration)"
   ]
  },
  {
   "cell_type": "code",
   "execution_count": 675,
   "metadata": {
    "collapsed": true
   },
   "outputs": [],
   "source": [
    "def Theta_update(x, y, theta, alpha):\n",
    "    sum_term = ((x * theta.T) - y).T * x\n",
    "    return theta - (alpha / len(x)) * sum_term"
   ]
  },
  {
   "cell_type": "markdown",
   "metadata": {},
   "source": [
    "#### Initial values for the algorithm"
   ]
  },
  {
   "cell_type": "code",
   "execution_count": 676,
   "metadata": {
    "collapsed": true
   },
   "outputs": [],
   "source": [
    "theta = np.matrix([0, 0])\n",
    "alpha = 0.01\n",
    "iters = 1000"
   ]
  },
  {
   "cell_type": "markdown",
   "metadata": {},
   "source": [
    "### Gradient Descent estimates"
   ]
  },
  {
   "cell_type": "code",
   "execution_count": 677,
   "metadata": {
    "collapsed": true
   },
   "outputs": [],
   "source": [
    "cost = []\n",
    "def GD_estimates(x, y, theta, alpha, iters):\n",
    "    for _ in range(iters):\n",
    "        theta = Theta_update(x, y, theta, alpha)\n",
    "        cost.append(GD_cost(x, y, theta))   \n",
    "    return theta, cost              "
   ]
  },
  {
   "cell_type": "code",
   "execution_count": 678,
   "metadata": {},
   "outputs": [
    {
     "data": {
      "text/plain": [
       "matrix([[-3.24140214,  1.1272942 ]])"
      ]
     },
     "execution_count": 678,
     "metadata": {},
     "output_type": "execute_result"
    }
   ],
   "source": [
    "thetahat, cost = GD_estimates(x, y, theta, alpha, iters)\n",
    "\n",
    "thetahat"
   ]
  },
  {
   "cell_type": "code",
   "execution_count": 679,
   "metadata": {},
   "outputs": [
    {
     "data": {
      "text/plain": [
       "4.5159555030789118"
      ]
     },
     "execution_count": 679,
     "metadata": {},
     "output_type": "execute_result"
    }
   ],
   "source": [
    "GD_cost(x, y, thetahat)"
   ]
  },
  {
   "cell_type": "code",
   "execution_count": 680,
   "metadata": {},
   "outputs": [
    {
     "data": {
      "text/plain": [
       "array([ 6.73719046,  5.93159357,  5.90115471,  5.89522859,  5.89009494,\n",
       "        5.88500416,  5.87993248,  5.87487909,  5.86984391,  5.86482687])"
      ]
     },
     "execution_count": 680,
     "metadata": {},
     "output_type": "execute_result"
    }
   ],
   "source": [
    "cost = np.array(cost)\n",
    "\n",
    "cost[0:10]"
   ]
  },
  {
   "cell_type": "code",
   "execution_count": 681,
   "metadata": {},
   "outputs": [
    {
     "data": {
      "text/plain": [
       "Text(0.5,1,'Predicted Profit vs. Population Size')"
      ]
     },
     "execution_count": 681,
     "metadata": {},
     "output_type": "execute_result"
    },
    {
     "data": {
      "image/png": "[encoded data removed]",
      "text/plain": [
       "<matplotlib.figure.Figure at 0x291f291bb70>"
      ]
     },
     "metadata": {},
     "output_type": "display_data"
    }
   ],
   "source": [
    "x_axis = np.linspace(data.Population.min(), data.Population.max(), 100)\n",
    "\n",
    "yhat = thetahat[0, 0] + (thetahat[0, 1] * x_axis)\n",
    "\n",
    "fig, ax = plt.subplots(figsize = (12,8))\n",
    "\n",
    "ax.scatter(data.Population, data.Profit, label = 'Training data')\n",
    "\n",
    "ax.plot(x_axis, yhat, 'r', label = 'Gradient Descent Prediction')\n",
    "\n",
    "ax.legend(loc=2)\n",
    "\n",
    "ax.set_xlabel('Population')\n",
    "\n",
    "ax.set_ylabel('Profit')\n",
    "\n",
    "ax.set_title('Predicted Profit vs. Population Size')"
   ]
  },
  {
   "cell_type": "code",
   "execution_count": 682,
   "metadata": {},
   "outputs": [
    {
     "data": {
      "image/png": "[encoded data removed]",
      "text/plain": [
       "<matplotlib.figure.Figure at 0x291f5d30be0>"
      ]
     },
     "metadata": {},
     "output_type": "display_data"
    }
   ],
   "source": [
    "fig, ax = plt.subplots(figsize =(12,8));\n",
    "\n",
    "ax.plot(np.arange(iters), cost, 'r');\n",
    "\n",
    "ax.set_xlim(xmin=0)\n",
    "\n",
    "ax.set_xlim(xmax=1000)\n",
    "\n",
    "ax.set_xlabel('Iterations');\n",
    "\n",
    "ax.set_ylabel('Cost');\n",
    "\n",
    "ax.set_title('Error vs. Training Epoch');"
   ]
  },
  {
   "cell_type": "markdown",
   "metadata": {
    "collapsed": true
   },
   "source": [
    "## Utilizing scikit-learn's linear regression class"
   ]
  },
  {
   "cell_type": "code",
   "execution_count": 683,
   "metadata": {},
   "outputs": [
    {
     "data": {
      "text/plain": [
       "LinearRegression(copy_X=True, fit_intercept=True, n_jobs=1, normalize=False)"
      ]
     },
     "execution_count": 683,
     "metadata": {},
     "output_type": "execute_result"
    }
   ],
   "source": [
    "from sklearn import linear_model\n",
    "from sklearn.metrics import mean_squared_error, r2_score\n",
    "model = linear_model.LinearRegression()\n",
    "model.fit(x, y)"
   ]
  },
  {
   "cell_type": "code",
   "execution_count": 684,
   "metadata": {},
   "outputs": [
    {
     "data": {
      "text/plain": [
       "array([[ 0.        ,  1.19303364]])"
      ]
     },
     "execution_count": 684,
     "metadata": {},
     "output_type": "execute_result"
    }
   ],
   "source": [
    "thetahat_skl = model.coef_\n",
    "\n",
    "thetahat_skl"
   ]
  },
  {
   "cell_type": "code",
   "execution_count": 685,
   "metadata": {},
   "outputs": [
    {
     "data": {
      "text/plain": [
       "(array([  3.39377399,   2.6989512 ,   6.26719552,   4.45927234,\n",
       "          3.09515767,   6.10530086,   5.02381586,   6.33818102,\n",
       "          3.84247394,   2.13452698,   2.91727635,  13.00234766,\n",
       "          2.94507404,   6.13572322,   2.833764  ,   2.52202431,\n",
       "          3.69835548,   2.22460102,   3.77494824,   4.53992141,\n",
       "          3.48802365,  20.28701109,   2.65409313,   3.65146926,\n",
       "          2.74333205,  18.70624151,  11.40845471,   9.17628876,\n",
       "         11.82363042,  22.59314512,   2.37050903,   3.96559502,\n",
       "          7.13763287,   3.13333475,   5.90033768,   5.56903223,\n",
       "          5.7629002 ,   2.79272364,  11.41799898,   3.68403908,\n",
       "          2.55483273,   4.31527318,  10.07225703,   2.99243747,\n",
       "          5.43934948,   4.56652606,   2.1531383 ,   3.02548451,\n",
       "         10.06271276,   2.71553436,   5.09993141,   2.43648379,\n",
       "          4.96118159,   5.17497322,   3.65946258,   3.69060076,\n",
       "          3.58955081,   2.83257096,   7.21160096,   7.38268198,\n",
       "          6.63321825,   2.28329828,  21.49078204,  13.88996469,\n",
       "         18.72294398,   4.71577457,   6.0005525 ,   8.3161115 ,\n",
       "          2.66518834,  20.37171648,   8.19680814,   4.85452438,\n",
       "          3.2698178 ,   4.72496093,   2.10147995,   3.91608412,\n",
       "          5.09802255,   2.11293307,   8.36144678,   2.19787707,\n",
       "          2.93934748,   2.29415488,   3.68678305,   7.75860688,\n",
       "          3.87790704,   6.26552528,   7.05650658,   3.26480705,\n",
       "          2.69024205,   2.14025354,   2.91369725,   5.21493985,\n",
       "          3.10816174,   2.43373982,   5.99852435,  12.08371175,   2.59062374]),\n",
       " array([  3.64647816,   2.98994202,   6.36156625,   4.65326461,\n",
       "          3.36431642,   6.20859243,   5.18670023,   6.42864025,\n",
       "          4.07045351,   2.45661913,   3.19623686,  12.72559294,\n",
       "          3.22250281,   6.23733843,   3.11732626,   2.82276429,\n",
       "          3.93427637,   2.54172984,   4.00664866,   4.7294697 ,\n",
       "          3.7355344 ,  19.60885134,   2.94755576,   3.88997371,\n",
       "          3.03187736,  18.11518652,  11.21952788,   9.11036043,\n",
       "         11.61182627,  21.78791103,   2.67959792,   4.18679027,\n",
       "          7.1840401 ,   3.40038984,   6.01492328,   5.70187368,\n",
       "          5.88505899,   3.07854734,  11.22854624,   3.92074884,\n",
       "          2.85376488,   4.5172002 ,   9.95695838,   3.26725639,\n",
       "          5.5793368 ,   4.75460836,   2.47420492,   3.29848244,\n",
       "          9.94794002,   3.00561141,   5.2586216 ,   2.74193729,\n",
       "          5.12751729,   5.32952841,   3.89752658,   3.92694896,\n",
       "          3.83146714,   3.11619897,   7.25393234,   7.41558633,\n",
       "          6.70742011,   2.59719272,  20.74629119,  13.56429983,\n",
       "         18.13096864,   4.89563287,   6.10961599,   8.29758131,\n",
       "          2.95803959,  19.68888923,   8.18485189,   5.02673718,\n",
       "          3.52935229,   4.90431303,   2.42539308,   4.14000756,\n",
       "          5.25681793,   2.43621511,   8.34041849,   2.51647845,\n",
       "          3.2170918 ,   2.6074511 ,   3.92334162,   7.77079673,\n",
       "          4.10393415,   6.35998804,   7.10738409,   3.52461766,\n",
       "          2.98171277,   2.46203014,   3.19285497,   5.36729276,\n",
       "          3.37660393,   2.73934452,   6.10769959,  11.8575764 ,   2.8875837 ]))"
      ]
     },
     "execution_count": 685,
     "metadata": {},
     "output_type": "execute_result"
    }
   ],
   "source": [
    "model.predict(x).flatten(), (x * thetahat.T).A1"
   ]
  },
  {
   "cell_type": "code",
   "execution_count": 686,
   "metadata": {},
   "outputs": [
    {
     "data": {
      "text/plain": [
       "(8.9539427519503576, 9.0319110061578236)"
      ]
     },
     "execution_count": 686,
     "metadata": {},
     "output_type": "execute_result"
    }
   ],
   "source": [
    "MSE_skl, MSE_GD = mean_squared_error(y, model.predict(x)), mean_squared_error(y, (x * thetahat.T))\n",
    "\n",
    "MSE_skl, MSE_GD"
   ]
  },
  {
   "cell_type": "code",
   "execution_count": null,
   "metadata": {
    "collapsed": true
   },
   "outputs": [],
   "source": []
  }
 ],
 "metadata": {
  "kernelspec": {
   "display_name": "Python 3",
   "language": "python",
   "name": "python3"
  },
  "language_info": {
   "codemirror_mode": {
    "name": "ipython",
    "version": 3
   },
   "file_extension": ".py",
   "mimetype": "text/x-python",
   "name": "python",
   "nbconvert_exporter": "python",
   "pygments_lexer": "ipython3",
   "version": "3.6.3"
  }
 },
 "nbformat": 4,
 "nbformat_minor": 2
}
